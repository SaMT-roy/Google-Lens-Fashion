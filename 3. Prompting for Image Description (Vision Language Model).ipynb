{
 "cells": [
  {
   "cell_type": "code",
   "execution_count": 1,
   "metadata": {},
   "outputs": [
    {
     "name": "stderr",
     "output_type": "stream",
     "text": [
      "/Users/saptarshimallikthakur/Desktop/google_lens/lib/python3.10/site-packages/tqdm/auto.py:21: TqdmWarning: IProgress not found. Please update jupyter and ipywidgets. See https://ipywidgets.readthedocs.io/en/stable/user_install.html\n",
      "  from .autonotebook import tqdm as notebook_tqdm\n"
     ]
    }
   ],
   "source": [
    "import matplotlib.pyplot as plt\n",
    "import cv2\n",
    "import PIL.Image\n",
    "import os\n",
    "import time\n",
    "import re\n",
    "from google.api_core.exceptions import ResourceExhausted\n",
    "import json\n",
    "from utils import *"
   ]
  },
  {
   "cell_type": "code",
   "execution_count": null,
   "metadata": {},
   "outputs": [],
   "source": [
    "output_dict = {}\n",
    "\n",
    "image_dir = 'datasets/fashion_dataset/train/images'\n",
    "\n",
    "# Your list of filenames\n",
    "image_list =sorted([f for f in os.listdir(image_dir) if os.path.isfile(os.path.join(image_dir, f))])\n",
    "numbers = sorted([int(re.search(r'image_(\\d+)', filename).group(1)) for filename in image_list])\n",
    "\n",
    "start = numbers[0]\n",
    "\n",
    "while True:\n",
    "    try:\n",
    "        for i in numbers[numbers.index(start):]:\n",
    "\n",
    "            image_path = f'datasets/fashion_dataset/train/images/image_{i}.jpg'\n",
    "\n",
    "            # print(\"Processing:\", image_path)\n",
    "            detection = detect_clothing(image_path, model_yolo, labels, upper, lower)\n",
    "\n",
    "            if len(detection) > 0:\n",
    "                output_dict[image_path] = {}\n",
    "\n",
    "            for j, detect in enumerate(detection):\n",
    "                try:\n",
    "                    response_text = process_image(detect['cropped_image'])\n",
    "                    category = detect['category']\n",
    "                    output_dict[image_path][category] = response_text\n",
    "                except ResourceExhausted as e:\n",
    "                    print(f\"ResourceExhausted encountered: {e}. Waiting 20s and restarting.\")\n",
    "                    start = i  # Restart from the current image\n",
    "                    time.sleep(20)\n",
    "                    raise  # Reraise to restart the outer loop\n",
    "                except Exception as e:\n",
    "                    print(f\"Error processing detection in image {image_path}: {e}\")\n",
    "                    print(\"Skipping this detection.\")\n",
    "                    continue  # Skip to the next detection\n",
    "\n",
    "    except Exception as e:\n",
    "        print(f\"Error encountered during processing: {e}\")\n",
    "        print(\"Restarting from the last processed image.\")\n",
    "        continue  # Restart the while loop\n",
    "    else:\n",
    "        print(\"Processing complete!\")\n",
    "        break"
   ]
  },
  {
   "cell_type": "code",
   "execution_count": null,
   "metadata": {},
   "outputs": [],
   "source": [
    "# Save the dictionary to a file\n",
    "with open('Cloth Description.json', 'w') as file:\n",
    "    json.dump(output_dict, file)"
   ]
  }
 ],
 "metadata": {
  "kernelspec": {
   "display_name": "google_lens",
   "language": "python",
   "name": "python3"
  },
  "language_info": {
   "codemirror_mode": {
    "name": "ipython",
    "version": 3
   },
   "file_extension": ".py",
   "mimetype": "text/x-python",
   "name": "python",
   "nbconvert_exporter": "python",
   "pygments_lexer": "ipython3",
   "version": "3.10.11"
  }
 },
 "nbformat": 4,
 "nbformat_minor": 2
}
