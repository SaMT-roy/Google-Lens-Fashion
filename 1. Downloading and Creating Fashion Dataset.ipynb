{
 "cells": [
  {
   "cell_type": "code",
   "execution_count": 1,
   "metadata": {},
   "outputs": [
    {
     "name": "stderr",
     "output_type": "stream",
     "text": [
      "/Users/saptarshimallikthakur/Desktop/google_lens/lib/python3.10/site-packages/tqdm/auto.py:21: TqdmWarning: IProgress not found. Please update jupyter and ipywidgets. See https://ipywidgets.readthedocs.io/en/stable/user_install.html\n",
      "  from .autonotebook import tqdm as notebook_tqdm\n"
     ]
    }
   ],
   "source": [
    "from datasets import load_dataset\n",
    "import os\n",
    "import pandas as pd\n",
    "from tqdm import tqdm\n",
    "import numpy as np\n",
    "import datasets"
   ]
  },
  {
   "cell_type": "code",
   "execution_count": 2,
   "metadata": {},
   "outputs": [],
   "source": [
    "def convert_annotation(img_name,item,label_dir):\n",
    "    bbox = np.array(item[\"objects\"]['bbox'])\n",
    "    label = item[\"objects\"]['category']\n",
    "    img_width = item[\"width\"]\n",
    "    img_height = item[\"height\"]\n",
    "\n",
    "\n",
    "    x_min, y_min, x_max, y_max = np.split(bbox,4,1) #split data into each column\n",
    "\n",
    "    #convert pascal to YOLO format\n",
    "    x_center = (x_min + x_max) / 2 / img_width\n",
    "    y_center = (y_min + y_max) / 2 / img_height\n",
    "    width = (x_max - x_min) / img_width\n",
    "    height = (y_max - y_min) / img_height\n",
    "\n",
    "\n",
    "    df = pd.DataFrame({\n",
    "        'class': label,\n",
    "        'x_center': np.squeeze(x_center),\n",
    "        'y_center': np.squeeze(y_center),\n",
    "        'width': np.squeeze(width),\n",
    "        'height': np.squeeze(height)})\n",
    "\n",
    "\n",
    "    df.to_csv(os.path.join(label_dir,img_name + \".txt\"), sep='\\t', index=False,header=False)\n",
    "\n",
    "def save_images_and_labels(dataset, output_dir):\n",
    "    # Create image directory if it doesn't exist\n",
    "\n",
    "    if not os.path.exists(output_dir):\n",
    "        os.makedirs(output_dir)\n",
    "\n",
    "    image_dir = os.path.join(output_dir, 'images')\n",
    "    os.makedirs(image_dir, exist_ok=True)\n",
    "    label_dir = os.path.join(output_dir, 'labels')\n",
    "    os.makedirs(label_dir, exist_ok=True)\n",
    "\n",
    "    for item in tqdm(dataset):\n",
    "        image_id = item['image_id']\n",
    "        image_data = item['image']\n",
    "\n",
    "        # Save image\n",
    "        try:\n",
    "          img_name = \"image_{}\".format(image_id)\n",
    "          image_path = os.path.join(image_dir, img_name + \".jpg\")\n",
    "          image_data.save(image_path)\n",
    "          # Convert and save annotation\n",
    "          convert_annotation(img_name,item,label_dir)\n",
    "        except Exception as e:\n",
    "          print(e)"
   ]
  },
  {
   "cell_type": "code",
   "execution_count": 3,
   "metadata": {},
   "outputs": [
    {
     "name": "stderr",
     "output_type": "stream",
     "text": [
      "Overwrite dataset info from restored data version if exists.\n",
      "Loading Dataset info from /Users/saptarshimallikthakur/.cache/huggingface/datasets/detection-datasets___fashionpedia/default/0.0.0/80845435ce686b8a9dbf70a05452fbfb8e09cdd7\n",
      "Found cached dataset fashionpedia (/Users/saptarshimallikthakur/.cache/huggingface/datasets/detection-datasets___fashionpedia/default/0.0.0/80845435ce686b8a9dbf70a05452fbfb8e09cdd7)\n",
      "Loading Dataset info from /Users/saptarshimallikthakur/.cache/huggingface/datasets/detection-datasets___fashionpedia/default/0.0.0/80845435ce686b8a9dbf70a05452fbfb8e09cdd7\n"
     ]
    }
   ],
   "source": [
    "datasets.enable_progress_bars\n",
    "datasets.logging.set_verbosity_info()\n",
    "dataset = load_dataset(\"detection-datasets/fashionpedia\")"
   ]
  },
  {
   "cell_type": "code",
   "execution_count": 4,
   "metadata": {},
   "outputs": [],
   "source": [
    "#YOLO expects everything to be under datasets directory\n",
    "if not os.path.exists(\"datasets\"):\n",
    "    os.mkdir(\"datasets\")\n",
    "\n",
    "main_folder = \"datasets/fashion_dataset\"\n",
    "if not os.path.exists(main_folder):\n",
    "    os.mkdir(main_folder)"
   ]
  },
  {
   "cell_type": "code",
   "execution_count": 5,
   "metadata": {},
   "outputs": [
    {
     "name": "stderr",
     "output_type": "stream",
     "text": [
      "100%|██████████| 45623/45623 [02:56<00:00, 257.99it/s]\n",
      "100%|██████████| 1158/1158 [00:04<00:00, 264.76it/s]\n"
     ]
    }
   ],
   "source": [
    "for key in dataset.keys():\n",
    "    output_dir = os.path.join(main_folder,key)\n",
    "    save_images_and_labels(dataset[key], output_dir)"
   ]
  },
  {
   "cell_type": "code",
   "execution_count": null,
   "metadata": {},
   "outputs": [],
   "source": []
  },
  {
   "cell_type": "code",
   "execution_count": null,
   "metadata": {},
   "outputs": [],
   "source": []
  }
 ],
 "metadata": {
  "kernelspec": {
   "display_name": "google_lens",
   "language": "python",
   "name": "python3"
  },
  "language_info": {
   "codemirror_mode": {
    "name": "ipython",
    "version": 3
   },
   "file_extension": ".py",
   "mimetype": "text/x-python",
   "name": "python",
   "nbconvert_exporter": "python",
   "pygments_lexer": "ipython3",
   "version": "3.10.11"
  }
 },
 "nbformat": 4,
 "nbformat_minor": 2
}
